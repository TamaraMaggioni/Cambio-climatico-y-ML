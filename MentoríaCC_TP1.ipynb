{
  "nbformat": 4,
  "nbformat_minor": 0,
  "metadata": {
    "colab": {
      "provenance": []
    },
    "kernelspec": {
      "name": "python3",
      "display_name": "Python 3"
    },
    "language_info": {
      "name": "python"
    }
  },
  "cells": [
    {
      "cell_type": "markdown",
      "source": [
        "\n",
        "#MENTORÍA 07\n",
        "#**Cambio climático y ML: cómo mitigar las emisiones de CO2 mediante la reducción del consumo energético en construcciones edilicias**\n",
        "\n",
        "**TP N°1: Análisis y visualización**\n",
        "\n",
        "Fecha de entrega: **viernes 23 de junio**"
      ],
      "metadata": {
        "id": "MK0LiTNFTr6L"
      }
    },
    {
      "cell_type": "markdown",
      "source": [
        "##Consignas generales\n",
        "Les propongo la elaboración de un informe que deberá apuntar a un público técnico, pero sin conocimientos específicos en el tema. Añadir gráficos y conclusiones obtenidas durante el desarrollo del práctico.\n",
        "\n",
        "\n",
        "Algunas recomendaciones:\n",
        "- Utilizar celdas de texto, que servirán para fundamentar sus decisiones, intercaladas con celdas de código, donde verterán el código implementado. No se recomienda utilizar comillas entre el código para explicar las tomas de decisión.\n",
        "- En la primera celda de código deberían importar todas las librerías que van a utilizar en todo el trabajo práctico.\n",
        "- Es super recomendable segmentar el trabajo en tópicos o tareas.\n",
        "\n",
        "\n"
      ],
      "metadata": {
        "id": "aan8fCrtVbxx"
      }
    },
    {
      "cell_type": "markdown",
      "source": [
        "## Análisis descriptivo\n",
        "\n",
        "Entender qué tipos de features poseen los dataset, qué significan y cómo se relacionan entre ellos.\n",
        "- ¿Cuántos datos tiene mi data set?\n",
        "- ¿Cuántas features tengo? ¿De qué tipo son? \n",
        "- ¿A cuáles les deberé aplicar alguna transformación?  \n",
        "- ¿Cuál es mi variable target? ¿Qué significa?\n",
        "- ¿Todas las features aportan información diferente? \n",
        "- ¿Existen datos faltantes? ¿Qué me convendrá hacer con ellos?"
      ],
      "metadata": {
        "id": "yqEN9rZpfMSl"
      }
    },
    {
      "cell_type": "markdown",
      "source": [
        "##Análisis estadístico\n",
        "\n",
        "Seleccionar algunos features que crean relevantes para el problema. Utilizar los gráficos y cálculos que le parezcan más apropiados para llegar a las conclusiones. \n",
        "\n",
        "- ¿Qué herramienta/s es/son la/s más adeduada/s para seleccionar features de interés? ¿Cuál es el criterio para realizar dicha selección?\n",
        "- ¿Existen outliers para estos features?\n",
        "- ¿Hay valores faltantes?\n",
        "- ¿Hay valores que no corresponden?\n",
        "- ¿Que decisión tomarían para completar o eliminar estos outliers y faltantes?\n",
        "- ¿Cómo es la distribución de las variables en el dataset?\n",
        "- ¿Existe correlación entre algunas de las variables?"
      ],
      "metadata": {
        "id": "JmE_Ki1wgss2"
      }
    }
  ]
}
