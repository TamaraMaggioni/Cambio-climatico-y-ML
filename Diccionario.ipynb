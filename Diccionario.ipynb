{
 "cells": [
  {
   "cell_type": "markdown",
   "id": "c9e6d14d-de4c-477f-9572-9364def535cd",
   "metadata": {},
   "source": [
    "# Diccionario"
   ]
  },
  {
   "cell_type": "markdown",
   "id": "364ba24d-84a5-4b15-80c9-cc4c6857defa",
   "metadata": {},
   "source": [
    "**id**: ID del edificio\n",
    "\n",
    "**Year_Factor**: año anonimizado en el que se observaron los factores de clima y uso de energía\n",
    "\n",
    "**State_Factor**: estado anonimizado en el que se encuentra el edificio\n",
    "\n",
    "**building_class**: clasificación del edificio\n",
    "\n",
    "**facility_type**: tipo de uso del edificio\n",
    "\n",
    "**floor_area**: área del piso (en pies cuadrados) del edificio\n",
    "\n",
    "**year_built**: año en que se construyó el edificio\n",
    "\n",
    "**energy_star_rating**: calificación de energía del edificio\n",
    "\n",
    "**ELEVATION**: elevación de la ubicación del edificio\n",
    "\n",
    "**january_min_temp**: temperatura mínima en enero (en grados Fahrenheit) en la ubicación del edificio\n",
    "\n",
    "**january_avg_temp**: temperatura promedio en enero (en grados Fahrenheit)\n",
    "\n",
    "**january_max_temp**: temperatura máxima en enero (en Fahrenheit) en la ubicación del edificio\n",
    "\n",
    "**cooling_degree_days**: el día grado de refrigeración para un día dado es el número de grados en que la temperatura promedio diaria supera los 65 grados Fahrenheit (18,3°C). Cada mes se suma para producir un total anual en la ubicación del edificio.\n",
    "\n",
    "**heating_degree_days**: día grado de calefacción para un día dado es el número de grados en que la temperatura promedio diaria cae por debajo de los 65 grados Fahrenheit (18,3°C). Cada mes se suma para producir un total anual en la ubicación del edificio.\n",
    "\n",
    "**precipitation_inches**: precipitación anual en pulgadas en la ubicación del edificio\n",
    "\n",
    "**snowfall_inches**: caída de nieve anual en pulgadas en la ubicación del edificio\n",
    "\n",
    "**snowdepth_inches**: profundidad de nieve anual en pulgadas en la ubicación del edificio\n",
    "\n",
    "**avg_temp**: temperatura promedio durante un año en la ubicación del edificio\n",
    "\n",
    "**days_below_30F**: número total de días por debajo de 30 grados Fahrenheit en la ubicación del edificio\n",
    "\n",
    "**days_below_20F**: número total de días por debajo de 20 grados Fahrenheit en la ubicación del edificio\n",
    "\n",
    "**days_below_10F**: número total de días por debajo de 10 grados Fahrenheit en la ubicación del edificio\n",
    "\n",
    "**days_below_0F**: número total de días por debajo de 0 grados Fahrenheit en la ubicación del edificio\n",
    "\n",
    "**days_above_80F**: número total de días por encima de 80 grados Fahrenheit en la ubicación del edificio\n",
    "\n",
    "**days_above_90F**: número total de días por encima de 90 grados Fahrenheit en la ubicación del edificio\n",
    "\n",
    "**days_above_100F**: número total de días por encima de 100 grados Fahrenheit en la ubicación del edificio\n",
    "\n",
    "**days_above_110F**: número total de días por encima de 110 grados Fahrenheit en la ubicación del edificio\n",
    "\n",
    "**direction_max_wind_speed**: dirección del viento para la velocidad máxima del viento en la ubicación del edificio. Dado en direcciones de puntos cardinales de 360 grados (por ejemplo, 360 = norte, 180 = sur, etc.).\n",
    "\n",
    "**direction_peak_wind_speed**: dirección del viento para la velocidad máxima de ráfaga de viento en la ubicación del edificio. Dado en direcciones de puntos cardinales de 360 grados (por ejemplo, 360 = norte, 180 = sur, etc.).\n",
    "\n",
    "**max_wind_speed**: velocidad máxima del viento en la ubicación del edificio\n",
    "\n",
    "**days_with_fog**: número de días con niebla en la ubicación del edificio"
   ]
  },
  {
   "cell_type": "code",
   "execution_count": null,
   "id": "ec9e66ae-afa8-4a39-a680-79988c3e066b",
   "metadata": {},
   "outputs": [],
   "source": []
  }
 ],
 "metadata": {
  "kernelspec": {
   "display_name": "Python 3 (ipykernel)",
   "language": "python",
   "name": "python3"
  },
  "language_info": {
   "codemirror_mode": {
    "name": "ipython",
    "version": 3
   },
   "file_extension": ".py",
   "mimetype": "text/x-python",
   "name": "python",
   "nbconvert_exporter": "python",
   "pygments_lexer": "ipython3",
   "version": "3.9.7"
  }
 },
 "nbformat": 4,
 "nbformat_minor": 5
}
