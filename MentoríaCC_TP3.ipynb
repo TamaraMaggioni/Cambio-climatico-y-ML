{
 "cells": [
  {
   "cell_type": "markdown",
   "id": "cd888f9b",
   "metadata": {},
   "source": [
    "# MENTORÍA 06\n",
    "# **Cambio climático y ML: cómo mitigar las emisiones de CO2 mediante la reducción del consumo energético en construcciones edilicias**\n",
    "\n",
    "**TP N°3: Aprendizaje supervisado o no supervisado**\n",
    "\n",
    "Fecha de entrega: **16 de septiembre**"
   ]
  },
  {
   "cell_type": "markdown",
   "id": "7263ddd2",
   "metadata": {},
   "source": [
    "## Consignas generales\n",
    "\n",
    "En este último trabajo práctico, deberemos encargarnos de encontrar el modelo que logre las mejores métricas. Recuerden que tenemos un problema de REGRESIÓN, por lo que las métricas y los modelos a seleccionar deben ser acorde a ello. \n",
    "\n",
    "**Métricas**\n",
    "\n",
    "Lo primero que deberán discutir entre ustedes y decidir será:\n",
    "\n",
    "1- ¿Qué métricas existen para evaluar modelos de regresión?\n",
    "\n",
    "2- ¿Cuál de esas métricas es más conveniente utilizar y porqué?\n",
    "\n",
    "\n",
    "**Modelos (elijan y testeen al menos DOS modelos)**\n",
    "--> algunas opciones: Linear Regression, Decision Tree Regressor, Random Forest Regressor, XGBoost Regressor, LGGM Regressor, Gradient Boosting Regressor, Extra Trees Regressor (si no vieron nada de boosting o bagging, pueden quedarse solo con regresion lineal, probar regularización -lasso, ridge, elastic-net-, o árboles de decisión. Y si quieren ver algo de boosting o bagging les súper recomiendo los videitos de StatQuest). \n",
    "\n",
    "En segundo lugar, deberán evaluar distintos modelos de regresión. \n",
    "\n",
    "3- ¿Qué modelos de regresión existen (los que hayan visto)?\n",
    "\n",
    "4- ¿Cuáles son sus hiperparámetros (de los que vayan a probar)?\n",
    "\n",
    "5- ¿Qué me dice cada uno de esos hiperparámetros?\n",
    "\n",
    "6- ¿Sobre qué conjunto de datos (train, val o test) deberé evaluar estos hiperparámetros?\n",
    "\n",
    "Por último, les dejo una pregunta (tal vez tonta, pero tal vez no, basada en la confusión que me generó a mí la primera vez que me crucé con este modelo):\n",
    "\n",
    "7- ¿Podré implementar una regresión logística? ¿porqué sí o porqué no?"
   ]
  },
  {
   "cell_type": "markdown",
   "id": "aefe06c8",
   "metadata": {},
   "source": [
    "## Extra: PIPELINES\n",
    "\n",
    "Les planteo el siguiente punto como un ejercicio tipo bonus o complementario (no obligatorio), pero es súper conveniente que lo practiquen para, entre otras cosas:\n",
    "1- hacer el código mucho más legible;\n",
    "2- no pifiarle en los pasos de fit y transform sobre train y test, y así evitar data leakage.\n",
    "\n",
    "La implementación de Pipelines tiene distintos niveles de complejidad. En este TP los invito a que, al menos, implementen el nivel más sencillo de todos. Aquí un a lista de posibilidades, de más sencillo a más complejo:\n",
    "\n",
    "- Implementar un pipeline solo para variables numéricas;\n",
    "- Implementar un pipeline para variables numéricas y categóricas (usando ColumnTransformer, por ejemplo);\n",
    "- Implementar un pipeline que incluya las dos categorías de arriba mencionadas y GridSearchCV para cada modelo y sus hiperparámetros;\n",
    "- Desarrollar sus propias clases (esto no lo se hacer del todo, pero si desean probar y compartir, más que bienvendio!)\n",
    "\n",
    "Si necesitan algo de material extra, me avisan y les puedo facilitar algunas cosas."
   ]
  }
 ],
 "metadata": {
  "kernelspec": {
   "display_name": "Python 3 (ipykernel)",
   "language": "python",
   "name": "python3"
  },
  "language_info": {
   "codemirror_mode": {
    "name": "ipython",
    "version": 3
   },
   "file_extension": ".py",
   "mimetype": "text/x-python",
   "name": "python",
   "nbconvert_exporter": "python",
   "pygments_lexer": "ipython3",
   "version": "3.9.7"
  }
 },
 "nbformat": 4,
 "nbformat_minor": 5
}
